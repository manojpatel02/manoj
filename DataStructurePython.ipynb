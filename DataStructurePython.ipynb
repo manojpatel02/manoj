{
  "cells": [
    {
      "cell_type": "markdown",
      "metadata": {
        "id": "view-in-github",
        "colab_type": "text"
      },
      "source": [
        "<a href=\"https://colab.research.google.com/github/manojpatel02/manoj/blob/master/DataStructurePython.ipynb\" target=\"_parent\"><img src=\"https://colab.research.google.com/assets/colab-badge.svg\" alt=\"Open In Colab\"/></a>"
      ]
    },
    {
      "cell_type": "code",
      "source": [
        "x = (1,2,3,4,5)"
      ],
      "metadata": {
        "id": "AXq1p2cMiW0J"
      },
      "execution_count": null,
      "outputs": []
    },
    {
      "cell_type": "code",
      "source": [
        "y = list(x)"
      ],
      "metadata": {
        "id": "2DJtkFIoicMR"
      },
      "execution_count": null,
      "outputs": []
    },
    {
      "cell_type": "code",
      "source": [
        "y"
      ],
      "metadata": {
        "id": "k315c1-5if2J",
        "outputId": "004e095d-bfb7-41c8-a415-b5fbdf51f267",
        "colab": {
          "base_uri": "https://localhost:8080/"
        }
      },
      "execution_count": null,
      "outputs": [
        {
          "output_type": "execute_result",
          "data": {
            "text/plain": [
              "[1, 2, 3, 4, 5]"
            ]
          },
          "metadata": {},
          "execution_count": 3
        }
      ]
    },
    {
      "cell_type": "code",
      "source": [
        "y.append(10)"
      ],
      "metadata": {
        "id": "F3KCwUiyih9v"
      },
      "execution_count": null,
      "outputs": []
    },
    {
      "cell_type": "code",
      "source": [
        "y"
      ],
      "metadata": {
        "id": "wPinfqjvik9i",
        "outputId": "2e178f9c-99e8-41a1-a1d2-25f8aeff0bf6",
        "colab": {
          "base_uri": "https://localhost:8080/"
        }
      },
      "execution_count": null,
      "outputs": [
        {
          "output_type": "execute_result",
          "data": {
            "text/plain": [
              "[1, 2, 3, 4, 5, 10]"
            ]
          },
          "metadata": {},
          "execution_count": 5
        }
      ]
    },
    {
      "cell_type": "code",
      "source": [
        "z = tuple(y)"
      ],
      "metadata": {
        "id": "cuAuIk0silbQ"
      },
      "execution_count": null,
      "outputs": []
    },
    {
      "cell_type": "code",
      "source": [
        "z"
      ],
      "metadata": {
        "id": "h2_lmztWiq0f",
        "outputId": "07c0931a-0bbd-45ba-ed1a-957f8542fd47",
        "colab": {
          "base_uri": "https://localhost:8080/"
        }
      },
      "execution_count": null,
      "outputs": [
        {
          "output_type": "execute_result",
          "data": {
            "text/plain": [
              "(1, 2, 3, 4, 5, 10)"
            ]
          },
          "metadata": {},
          "execution_count": 7
        }
      ]
    },
    {
      "cell_type": "code",
      "source": [
        "z.append(10\n",
        "         )"
      ],
      "metadata": {
        "id": "LnnYQfFvirWG",
        "outputId": "a761bed9-031d-49fc-ffc7-1473045d6769",
        "colab": {
          "base_uri": "https://localhost:8080/",
          "height": 163
        }
      },
      "execution_count": null,
      "outputs": [
        {
          "output_type": "error",
          "ename": "AttributeError",
          "evalue": "'tuple' object has no attribute 'append'",
          "traceback": [
            "\u001b[0;31m---------------------------------------------------------------------------\u001b[0m",
            "\u001b[0;31mAttributeError\u001b[0m                            Traceback (most recent call last)",
            "\u001b[0;32m<ipython-input-8-25df36ccdd81>\u001b[0m in \u001b[0;36m<cell line: 0>\u001b[0;34m()\u001b[0m\n\u001b[0;32m----> 1\u001b[0;31m z.append(10\n\u001b[0m\u001b[1;32m      2\u001b[0m          )\n",
            "\u001b[0;31mAttributeError\u001b[0m: 'tuple' object has no attribute 'append'"
          ]
        }
      ]
    },
    {
      "cell_type": "code",
      "source": [
        "x1 = {\n",
        "      'fname':'manoj',\n",
        "      'lname':'p',\n",
        "      'age':25,\n",
        "      'phone':[123456,78900]\n",
        "}"
      ],
      "metadata": {
        "id": "wV8Ltxeciwx1"
      },
      "execution_count": null,
      "outputs": []
    },
    {
      "cell_type": "code",
      "source": [
        "x1"
      ],
      "metadata": {
        "id": "rBW5vRd1jNKf",
        "outputId": "2229bb2e-f557-481c-a4df-0effa8830e36",
        "colab": {
          "base_uri": "https://localhost:8080/"
        }
      },
      "execution_count": null,
      "outputs": [
        {
          "output_type": "execute_result",
          "data": {
            "text/plain": [
              "{'fname': 'manoj', 'lname': 'p', 'age': 25, 'phone': [123456, 78900]}"
            ]
          },
          "metadata": {},
          "execution_count": 11
        }
      ]
    },
    {
      "cell_type": "code",
      "source": [
        "x1.keys()"
      ],
      "metadata": {
        "id": "mFD0nTYtjPCP",
        "outputId": "bf6ffc94-4d40-4f14-ac3b-b9e313cc084a",
        "colab": {
          "base_uri": "https://localhost:8080/"
        }
      },
      "execution_count": null,
      "outputs": [
        {
          "output_type": "execute_result",
          "data": {
            "text/plain": [
              "dict_keys(['fname', 'lname', 'age', 'phone'])"
            ]
          },
          "metadata": {},
          "execution_count": 12
        }
      ]
    },
    {
      "cell_type": "code",
      "source": [
        "x1.values()"
      ],
      "metadata": {
        "id": "svJXsHuGjRYm",
        "outputId": "4b83566a-c4d0-4b1c-e688-20c7a7f5fd56",
        "colab": {
          "base_uri": "https://localhost:8080/"
        }
      },
      "execution_count": null,
      "outputs": [
        {
          "output_type": "execute_result",
          "data": {
            "text/plain": [
              "dict_values(['manoj', 'p', 25, [123456, 78900]])"
            ]
          },
          "metadata": {},
          "execution_count": 13
        }
      ]
    },
    {
      "cell_type": "code",
      "source": [
        "x1.items()"
      ],
      "metadata": {
        "id": "0IbzslFOjUhX",
        "outputId": "c8aede3a-180a-4012-cdc3-767c621c95d5",
        "colab": {
          "base_uri": "https://localhost:8080/"
        }
      },
      "execution_count": null,
      "outputs": [
        {
          "output_type": "execute_result",
          "data": {
            "text/plain": [
              "dict_items([('fname', 'manoj'), ('lname', 'p'), ('age', 25), ('phone', [123456, 78900])])"
            ]
          },
          "metadata": {},
          "execution_count": 14
        }
      ]
    },
    {
      "cell_type": "code",
      "source": [
        "x1['phone'][1]"
      ],
      "metadata": {
        "id": "pklsnHfPjZuq",
        "outputId": "1a827a06-30c4-4f0b-aaee-fd7160336bb4",
        "colab": {
          "base_uri": "https://localhost:8080/"
        }
      },
      "execution_count": null,
      "outputs": [
        {
          "output_type": "execute_result",
          "data": {
            "text/plain": [
              "78900"
            ]
          },
          "metadata": {},
          "execution_count": 15
        }
      ]
    },
    {
      "cell_type": "code",
      "source": [
        "x1['address']='zzzz'"
      ],
      "metadata": {
        "id": "fK_3gd3sjgkK"
      },
      "execution_count": null,
      "outputs": []
    },
    {
      "cell_type": "code",
      "source": [
        "x1"
      ],
      "metadata": {
        "id": "Oe4c1q5sjqLP",
        "outputId": "96ad90a3-931b-4189-bc90-4fbd27032fbd",
        "colab": {
          "base_uri": "https://localhost:8080/"
        }
      },
      "execution_count": null,
      "outputs": [
        {
          "output_type": "execute_result",
          "data": {
            "text/plain": [
              "{'fname': 'manoj',\n",
              " 'lname': 'p',\n",
              " 'age': 25,\n",
              " 'phone': [123456, 78900],\n",
              " 'address': 'zzzz'}"
            ]
          },
          "metadata": {},
          "execution_count": 17
        }
      ]
    },
    {
      "cell_type": "code",
      "source": [
        "x1.pop('address')"
      ],
      "metadata": {
        "id": "lFGfPNsXjqyu",
        "outputId": "5c4ffd19-b2bf-4f01-c288-a43f748a330f",
        "colab": {
          "base_uri": "https://localhost:8080/",
          "height": 36
        }
      },
      "execution_count": null,
      "outputs": [
        {
          "output_type": "execute_result",
          "data": {
            "text/plain": [
              "'zzzz'"
            ],
            "application/vnd.google.colaboratory.intrinsic+json": {
              "type": "string"
            }
          },
          "metadata": {},
          "execution_count": 22
        }
      ]
    },
    {
      "cell_type": "code",
      "source": [
        "x1"
      ],
      "metadata": {
        "id": "mZhwNWFCjxOn",
        "outputId": "200bb0aa-c1d4-42f3-9d95-204524ecd8d1",
        "colab": {
          "base_uri": "https://localhost:8080/"
        }
      },
      "execution_count": null,
      "outputs": [
        {
          "output_type": "execute_result",
          "data": {
            "text/plain": [
              "{'fname': 'manoj', 'lname': 'p', 'age': 25, 'phone': [123456, 78900]}"
            ]
          },
          "metadata": {},
          "execution_count": 23
        }
      ]
    },
    {
      "cell_type": "code",
      "source": [
        "x1.pop(25)"
      ],
      "metadata": {
        "id": "SH5gXPFAj_DF",
        "outputId": "06b7131c-357a-470b-845c-c6d06c968f97",
        "colab": {
          "base_uri": "https://localhost:8080/",
          "height": 145
        }
      },
      "execution_count": null,
      "outputs": [
        {
          "output_type": "error",
          "ename": "KeyError",
          "evalue": "25",
          "traceback": [
            "\u001b[0;31m---------------------------------------------------------------------------\u001b[0m",
            "\u001b[0;31mKeyError\u001b[0m                                  Traceback (most recent call last)",
            "\u001b[0;32m<ipython-input-24-dfc05d77be63>\u001b[0m in \u001b[0;36m<cell line: 0>\u001b[0;34m()\u001b[0m\n\u001b[0;32m----> 1\u001b[0;31m \u001b[0mx1\u001b[0m\u001b[0;34m.\u001b[0m\u001b[0mpop\u001b[0m\u001b[0;34m(\u001b[0m\u001b[0;36m25\u001b[0m\u001b[0;34m)\u001b[0m\u001b[0;34m\u001b[0m\u001b[0;34m\u001b[0m\u001b[0m\n\u001b[0m",
            "\u001b[0;31mKeyError\u001b[0m: 25"
          ]
        }
      ]
    },
    {
      "cell_type": "code",
      "source": [
        "x2 = {\n",
        "    'Student1':{\n",
        "        'fname':'M',\n",
        "        'lname':'P'\n",
        "    },\n",
        "    'student2':{\n",
        "        'fname':'n',\n",
        "        'lname':'l'\n",
        "    }\n",
        "}"
      ],
      "metadata": {
        "id": "6InhG-eMkCY0"
      },
      "execution_count": null,
      "outputs": []
    },
    {
      "cell_type": "code",
      "source": [
        "x2"
      ],
      "metadata": {
        "id": "snI-qCTNknMt",
        "outputId": "a1ebdafe-f9f1-4e63-cf40-ec4807218bd9",
        "colab": {
          "base_uri": "https://localhost:8080/"
        }
      },
      "execution_count": null,
      "outputs": [
        {
          "output_type": "execute_result",
          "data": {
            "text/plain": [
              "{'Student1': {'fname': 'M', 'lname': 'P'},\n",
              " 'student2': {'fname': 'n', 'lname': 'l'}}"
            ]
          },
          "metadata": {},
          "execution_count": 27
        }
      ]
    },
    {
      "cell_type": "code",
      "source": [
        "x2['Student1']['lname']"
      ],
      "metadata": {
        "id": "aIxiTc6hkvAs",
        "outputId": "82cf5e5d-28ca-472d-ab76-0d471cc12741",
        "colab": {
          "base_uri": "https://localhost:8080/",
          "height": 36
        }
      },
      "execution_count": null,
      "outputs": [
        {
          "output_type": "execute_result",
          "data": {
            "text/plain": [
              "'P'"
            ],
            "application/vnd.google.colaboratory.intrinsic+json": {
              "type": "string"
            }
          },
          "metadata": {},
          "execution_count": 29
        }
      ]
    },
    {
      "cell_type": "code",
      "source": [
        "student = {\n",
        "    'student1': {\n",
        "        'fname':['qq','ii'],\n",
        "        'lname':'ww'\n",
        "    },\n",
        "    'student2':{\n",
        "        'phone':[123455,121345]\n",
        "    }\n",
        "}"
      ],
      "metadata": {
        "id": "On029Egbk5ps"
      },
      "execution_count": null,
      "outputs": []
    },
    {
      "cell_type": "code",
      "source": [
        "student"
      ],
      "metadata": {
        "id": "oghFIGrEo3-F",
        "outputId": "d773a78b-d4ec-41f3-b9af-7a1002e5ea88",
        "colab": {
          "base_uri": "https://localhost:8080/"
        }
      },
      "execution_count": null,
      "outputs": [
        {
          "output_type": "execute_result",
          "data": {
            "text/plain": [
              "{'student1': {'fname': ['qq', 'ii'], 'lname': 'ww'},\n",
              " 'student2': {'phone': [123455, 121345]}}"
            ]
          },
          "metadata": {},
          "execution_count": 32
        }
      ]
    },
    {
      "cell_type": "code",
      "source": [
        "student['student1']['fname'][1]"
      ],
      "metadata": {
        "id": "zZBEIUnlo5AX",
        "outputId": "89a771df-7dae-4d7b-bd5b-df3954bab66b",
        "colab": {
          "base_uri": "https://localhost:8080/",
          "height": 36
        }
      },
      "execution_count": null,
      "outputs": [
        {
          "output_type": "execute_result",
          "data": {
            "text/plain": [
              "'ii'"
            ],
            "application/vnd.google.colaboratory.intrinsic+json": {
              "type": "string"
            }
          },
          "metadata": {},
          "execution_count": 33
        }
      ]
    },
    {
      "cell_type": "code",
      "source": [
        "student['student2']['phone'][1]"
      ],
      "metadata": {
        "id": "UUQXPYHSpC6F",
        "outputId": "854a45b1-79f3-46ff-892e-29b0302ef1e9",
        "colab": {
          "base_uri": "https://localhost:8080/"
        }
      },
      "execution_count": null,
      "outputs": [
        {
          "output_type": "execute_result",
          "data": {
            "text/plain": [
              "121345"
            ]
          },
          "metadata": {},
          "execution_count": 34
        }
      ]
    },
    {
      "cell_type": "code",
      "source": [
        "student['student2']['address']='zzz'"
      ],
      "metadata": {
        "id": "p_AkZYB-pLL2"
      },
      "execution_count": null,
      "outputs": []
    },
    {
      "cell_type": "code",
      "source": [
        "student"
      ],
      "metadata": {
        "id": "qM1GKaMvpvYc",
        "outputId": "00875047-9b1c-4a50-9bc7-1a923691deab",
        "colab": {
          "base_uri": "https://localhost:8080/"
        }
      },
      "execution_count": null,
      "outputs": [
        {
          "output_type": "execute_result",
          "data": {
            "text/plain": [
              "{'student1': {'fname': ['qq', 'ii'], 'lname': 'ww'},\n",
              " 'student2': {'phone': [123455, 121345], 'address': 'zzz'}}"
            ]
          },
          "metadata": {},
          "execution_count": 36
        }
      ]
    },
    {
      "cell_type": "code",
      "source": [
        "student['student2']['phone'][1]=1231234\n"
      ],
      "metadata": {
        "id": "dXeX_-1Hpw8W"
      },
      "execution_count": null,
      "outputs": []
    },
    {
      "cell_type": "code",
      "source": [
        "student"
      ],
      "metadata": {
        "id": "Th-2rWL4q_-w",
        "outputId": "d12d892e-7485-4913-f646-074d1b53b211",
        "colab": {
          "base_uri": "https://localhost:8080/"
        }
      },
      "execution_count": null,
      "outputs": [
        {
          "output_type": "execute_result",
          "data": {
            "text/plain": [
              "{'student1': {'fname': ['qq', 'ii'], 'lname': 'ww'},\n",
              " 'student2': {'phone': [123455, 1231234], 'address': 'zzz'}}"
            ]
          },
          "metadata": {},
          "execution_count": 40
        }
      ]
    },
    {
      "cell_type": "code",
      "source": [
        "student['student2']['phone']=[123455, 121345,12334,1224654\n",
        "                              ]"
      ],
      "metadata": {
        "id": "XgXenyt6rXWL"
      },
      "execution_count": null,
      "outputs": []
    },
    {
      "cell_type": "code",
      "source": [
        "student"
      ],
      "metadata": {
        "id": "qgLtj6Czrips",
        "outputId": "5dc15cf8-fd99-4f6d-e54b-253debd8ef7a",
        "colab": {
          "base_uri": "https://localhost:8080/"
        }
      },
      "execution_count": null,
      "outputs": [
        {
          "output_type": "execute_result",
          "data": {
            "text/plain": [
              "{'student1': {'fname': ['qq', 'ii'], 'lname': 'ww'},\n",
              " 'student2': {'phone': [123455, 121345, 12334, 1224654], 'address': 'zzz'}}"
            ]
          },
          "metadata": {},
          "execution_count": 42
        }
      ]
    },
    {
      "cell_type": "code",
      "source": [
        "lsit1 = [1,2,3,4,5,'abd']\n"
      ],
      "metadata": {
        "id": "GGZV_AmArj65"
      },
      "execution_count": null,
      "outputs": []
    },
    {
      "cell_type": "code",
      "source": [
        "lsit1.append(10)"
      ],
      "metadata": {
        "id": "C8ub1VN9tJRC"
      },
      "execution_count": null,
      "outputs": []
    },
    {
      "cell_type": "code",
      "source": [
        "lsit1.append('cvd')"
      ],
      "metadata": {
        "id": "tekFf8WhtN-d"
      },
      "execution_count": null,
      "outputs": []
    },
    {
      "cell_type": "code",
      "source": [
        "lsit1"
      ],
      "metadata": {
        "id": "KZ2TJj-qtRpB",
        "outputId": "408a0d16-c04f-4294-9547-83c4b817d04f",
        "colab": {
          "base_uri": "https://localhost:8080/"
        }
      },
      "execution_count": null,
      "outputs": [
        {
          "output_type": "execute_result",
          "data": {
            "text/plain": [
              "[1, 2, 3, 4, 5, 'abd', 10, 'cvd']"
            ]
          },
          "metadata": {},
          "execution_count": 46
        }
      ]
    },
    {
      "cell_type": "code",
      "source": [
        "lsit1[2]"
      ],
      "metadata": {
        "id": "oFl0buvetSr2",
        "outputId": "ab67cd2b-4f99-4f90-827c-350bfe46a8c8",
        "colab": {
          "base_uri": "https://localhost:8080/"
        }
      },
      "execution_count": null,
      "outputs": [
        {
          "output_type": "execute_result",
          "data": {
            "text/plain": [
              "3"
            ]
          },
          "metadata": {},
          "execution_count": 47
        }
      ]
    },
    {
      "cell_type": "code",
      "source": [
        "lsit1.insert(2,'kli')"
      ],
      "metadata": {
        "id": "6xVXZa5etY96"
      },
      "execution_count": null,
      "outputs": []
    },
    {
      "cell_type": "code",
      "source": [
        "lsit1[2]\n",
        "lsit1"
      ],
      "metadata": {
        "id": "1mus0emFteaB",
        "outputId": "afc46ae5-1bb4-4bd1-eeae-7869417c655e",
        "colab": {
          "base_uri": "https://localhost:8080/"
        }
      },
      "execution_count": null,
      "outputs": [
        {
          "output_type": "execute_result",
          "data": {
            "text/plain": [
              "[1, 2, 'kli', 3, 4, 5, 'abd', 10, 'cvd']"
            ]
          },
          "metadata": {},
          "execution_count": 57
        }
      ]
    },
    {
      "cell_type": "code",
      "source": [
        "lsit1.remove('kli')"
      ],
      "metadata": {
        "id": "zOVCfy3otgw1"
      },
      "execution_count": null,
      "outputs": []
    },
    {
      "cell_type": "code",
      "source": [
        "lsit1"
      ],
      "metadata": {
        "id": "OKgTXXOttm97",
        "outputId": "e014f0d0-3284-41cd-83b7-f0d609b6e10e",
        "colab": {
          "base_uri": "https://localhost:8080/"
        }
      },
      "execution_count": null,
      "outputs": [
        {
          "output_type": "execute_result",
          "data": {
            "text/plain": [
              "[1, 2, 3, 4, 5, 'abd', 10, 'cvd']"
            ]
          },
          "metadata": {},
          "execution_count": 59
        }
      ]
    },
    {
      "cell_type": "code",
      "source": [
        "z = lsit1.pop()"
      ],
      "metadata": {
        "id": "A2tKg5ivtrzs"
      },
      "execution_count": null,
      "outputs": []
    },
    {
      "cell_type": "code",
      "source": [
        "z"
      ],
      "metadata": {
        "id": "4Qw4snDjt1n9",
        "outputId": "2bb79778-0f96-4c7c-b62d-6cc9c9bb495e",
        "colab": {
          "base_uri": "https://localhost:8080/",
          "height": 36
        }
      },
      "execution_count": null,
      "outputs": [
        {
          "output_type": "execute_result",
          "data": {
            "text/plain": [
              "'cvd'"
            ],
            "application/vnd.google.colaboratory.intrinsic+json": {
              "type": "string"
            }
          },
          "metadata": {},
          "execution_count": 61
        }
      ]
    },
    {
      "cell_type": "markdown",
      "source": [
        "RANDOM PASSWORD CODE"
      ],
      "metadata": {
        "id": "tq9Fk_9yzh56"
      }
    },
    {
      "cell_type": "code",
      "source": [
        "import random"
      ],
      "metadata": {
        "id": "Sy0K1S0kt2tx"
      },
      "execution_count": 1,
      "outputs": []
    },
    {
      "cell_type": "code",
      "source": [
        "upper = 'ABCDEFGHIJKLMNOPQRSTUVWXYZ'\n",
        "lower =  upper.lower()\n",
        "special = '!@#$%^&*'\n",
        "number = '1234567890'\n",
        "combine = upper+lower+special+number"
      ],
      "metadata": {
        "id": "LKMcVZIlwjmO"
      },
      "execution_count": 8,
      "outputs": []
    },
    {
      "cell_type": "code",
      "source": [
        "upp = random.choice(upper)\n",
        "low = random.choice(lower)\n",
        "spec = random.choice(special)\n",
        "num = random.choice(number)\n",
        "password = upp+low+spec+num\n",
        "for i in range(4):\n",
        "  password = password + random.choice(combine)\n",
        "\n"
      ],
      "metadata": {
        "id": "ML8k2rW3xFs4"
      },
      "execution_count": 9,
      "outputs": []
    },
    {
      "cell_type": "code",
      "source": [
        "password"
      ],
      "metadata": {
        "colab": {
          "base_uri": "https://localhost:8080/",
          "height": 36
        },
        "id": "wIATc-RTx_FX",
        "outputId": "f9eeb4ae-5775-448b-d223-c67d0c6073df"
      },
      "execution_count": 10,
      "outputs": [
        {
          "output_type": "execute_result",
          "data": {
            "text/plain": [
              "'Kl%5*3qW'"
            ],
            "application/vnd.google.colaboratory.intrinsic+json": {
              "type": "string"
            }
          },
          "metadata": {},
          "execution_count": 10
        }
      ]
    },
    {
      "cell_type": "markdown",
      "source": [
        "LIST COMPRESSION"
      ],
      "metadata": {
        "id": "Tj7uVEedzaBV"
      }
    },
    {
      "cell_type": "code",
      "source": [
        "\n",
        "z = [i*i for i in range(4) ]\n",
        "z"
      ],
      "metadata": {
        "colab": {
          "base_uri": "https://localhost:8080/"
        },
        "id": "qiPl8BteyZ3I",
        "outputId": "b6e7bf34-46e4-4bfa-ccfb-0eaa2084606a"
      },
      "execution_count": 13,
      "outputs": [
        {
          "output_type": "execute_result",
          "data": {
            "text/plain": [
              "[0, 1, 4, 9]"
            ]
          },
          "metadata": {},
          "execution_count": 13
        }
      ]
    },
    {
      "cell_type": "code",
      "source": [
        "z1 = [i for i in range(10) if i%2==0]\n",
        "z1"
      ],
      "metadata": {
        "colab": {
          "base_uri": "https://localhost:8080/"
        },
        "id": "37pkY9Uayg5V",
        "outputId": "7d215956-01ce-4ff1-c88d-c4b4b1f15be1"
      },
      "execution_count": 14,
      "outputs": [
        {
          "output_type": "execute_result",
          "data": {
            "text/plain": [
              "[0, 2, 4, 6, 8]"
            ]
          },
          "metadata": {},
          "execution_count": 14
        }
      ]
    },
    {
      "cell_type": "markdown",
      "source": [
        "DICTIONARY COMPRESSION"
      ],
      "metadata": {
        "id": "bG_O5Iq_zeeT"
      }
    },
    {
      "cell_type": "code",
      "source": [
        "z2 = {i:i*i for i in range(5)}\n",
        "z2"
      ],
      "metadata": {
        "colab": {
          "base_uri": "https://localhost:8080/"
        },
        "id": "iqo2CY_Uy-Tn",
        "outputId": "e700e271-d13f-4371-e02e-f2b3f242c230"
      },
      "execution_count": 16,
      "outputs": [
        {
          "output_type": "execute_result",
          "data": {
            "text/plain": [
              "{0: 0, 1: 1, 2: 4, 3: 9, 4: 16}"
            ]
          },
          "metadata": {},
          "execution_count": 16
        }
      ]
    },
    {
      "cell_type": "markdown",
      "source": [
        "FUNCTIONS"
      ],
      "metadata": {
        "id": "n5fWUoF3zW7o"
      }
    },
    {
      "cell_type": "code",
      "source": [
        "def even_odd(x):\n",
        "  if x%2==0:\n",
        "    print(x,'even')\n",
        "  else:\n",
        "    print(x,'odd')\n",
        "\n",
        "\n",
        "even_odd(1)"
      ],
      "metadata": {
        "colab": {
          "base_uri": "https://localhost:8080/"
        },
        "id": "gXDeFJyfzI9w",
        "outputId": "187f00f2-b474-4602-9774-8a864105b6ad"
      },
      "execution_count": 19,
      "outputs": [
        {
          "output_type": "stream",
          "name": "stdout",
          "text": [
            "1 odd\n"
          ]
        }
      ]
    },
    {
      "cell_type": "markdown",
      "source": [
        "VOWEL COUNT"
      ],
      "metadata": {
        "id": "Byq_WnVk1mKe"
      }
    },
    {
      "cell_type": "code",
      "source": [
        "def vowel(x):\n",
        "  count = 0\n",
        "  for i in x:\n",
        "    if i in 'AEIOUaeiou':\n",
        "      count = count + 1\n",
        "  print(count)\n",
        "\n",
        ""
      ],
      "metadata": {
        "id": "D-HMa6Hsz6sn"
      },
      "execution_count": 29,
      "outputs": []
    },
    {
      "cell_type": "code",
      "source": [
        "vowel('manoj')"
      ],
      "metadata": {
        "colab": {
          "base_uri": "https://localhost:8080/"
        },
        "id": "22vZs2et05Tm",
        "outputId": "211a5670-4234-4caa-f4b3-170dceb1442a"
      },
      "execution_count": 30,
      "outputs": [
        {
          "output_type": "stream",
          "name": "stdout",
          "text": [
            "2\n"
          ]
        }
      ]
    },
    {
      "cell_type": "markdown",
      "source": [
        "REVERSE STRING"
      ],
      "metadata": {
        "id": "rKB8oanm1pqg"
      }
    },
    {
      "cell_type": "code",
      "source": [
        "def reverse_string(x):\n",
        "  empt = ''\n",
        "  for i in x:\n",
        "    empt = i + empt\n",
        "  print(empt)"
      ],
      "metadata": {
        "id": "eR_-xjHa1eGd"
      },
      "execution_count": 31,
      "outputs": []
    },
    {
      "cell_type": "code",
      "source": [
        "reverse_string('manoj')"
      ],
      "metadata": {
        "colab": {
          "base_uri": "https://localhost:8080/"
        },
        "id": "HvT5zw_m2CGL",
        "outputId": "786e6fdd-4710-4635-fe20-8694e1a63c68"
      },
      "execution_count": 32,
      "outputs": [
        {
          "output_type": "stream",
          "name": "stdout",
          "text": [
            "jonam\n"
          ]
        }
      ]
    },
    {
      "cell_type": "code",
      "source": [
        "def reverse_string1(x):\n",
        "  print(x[::-1])\n",
        "\n",
        "reverse_string1('manoj')"
      ],
      "metadata": {
        "colab": {
          "base_uri": "https://localhost:8080/"
        },
        "id": "UCyiM2ZG2F7l",
        "outputId": "da8975af-fad2-4942-f4d2-def581ce5b54"
      },
      "execution_count": 33,
      "outputs": [
        {
          "output_type": "stream",
          "name": "stdout",
          "text": [
            "jonam\n"
          ]
        }
      ]
    }
  ],
  "metadata": {
    "colab": {
      "name": "Welcome To Colab",
      "provenance": [],
      "include_colab_link": true
    },
    "kernelspec": {
      "display_name": "Python 3",
      "name": "python3"
    }
  },
  "nbformat": 4,
  "nbformat_minor": 0
}