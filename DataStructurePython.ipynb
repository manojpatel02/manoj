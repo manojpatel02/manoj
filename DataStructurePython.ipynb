{
  "cells": [
    {
      "cell_type": "markdown",
      "metadata": {
        "id": "view-in-github",
        "colab_type": "text"
      },
      "source": [
        "<a href=\"https://colab.research.google.com/github/manojpatel02/manoj/blob/master/DataStructurePython.ipynb\" target=\"_parent\"><img src=\"https://colab.research.google.com/assets/colab-badge.svg\" alt=\"Open In Colab\"/></a>"
      ]
    },
    {
      "cell_type": "code",
      "source": [
        "x = (1,2,3,4,5)"
      ],
      "metadata": {
        "id": "AXq1p2cMiW0J"
      },
      "execution_count": null,
      "outputs": []
    },
    {
      "cell_type": "code",
      "source": [
        "y = list(x)"
      ],
      "metadata": {
        "id": "2DJtkFIoicMR"
      },
      "execution_count": null,
      "outputs": []
    },
    {
      "cell_type": "code",
      "source": [
        "y"
      ],
      "metadata": {
        "id": "k315c1-5if2J",
        "outputId": "da2e84a2-b46f-4340-831a-ff9add991307",
        "colab": {
          "base_uri": "https://localhost:8080/"
        }
      },
      "execution_count": null,
      "outputs": [
        {
          "output_type": "execute_result",
          "data": {
            "text/plain": [
              "[1, 2, 3, 4, 5]"
            ]
          },
          "metadata": {},
          "execution_count": 40
        }
      ]
    },
    {
      "cell_type": "code",
      "source": [
        "y.append(10)"
      ],
      "metadata": {
        "id": "F3KCwUiyih9v"
      },
      "execution_count": null,
      "outputs": []
    },
    {
      "cell_type": "code",
      "source": [
        "y"
      ],
      "metadata": {
        "id": "wPinfqjvik9i",
        "outputId": "5235b908-dfc2-4824-9995-34d789979456",
        "colab": {
          "base_uri": "https://localhost:8080/"
        }
      },
      "execution_count": null,
      "outputs": [
        {
          "output_type": "execute_result",
          "data": {
            "text/plain": [
              "[1, 2, 3, 4, 5, 10]"
            ]
          },
          "metadata": {},
          "execution_count": 42
        }
      ]
    },
    {
      "cell_type": "code",
      "source": [
        "z = tuple(y)"
      ],
      "metadata": {
        "id": "cuAuIk0silbQ"
      },
      "execution_count": null,
      "outputs": []
    },
    {
      "cell_type": "code",
      "source": [
        "z"
      ],
      "metadata": {
        "id": "h2_lmztWiq0f",
        "outputId": "a70e7ee6-3df5-48fd-8a06-709cc5b21979",
        "colab": {
          "base_uri": "https://localhost:8080/"
        }
      },
      "execution_count": null,
      "outputs": [
        {
          "output_type": "execute_result",
          "data": {
            "text/plain": [
              "(1, 2, 3, 4, 5, 10)"
            ]
          },
          "metadata": {},
          "execution_count": 44
        }
      ]
    },
    {
      "cell_type": "code",
      "source": [
        "x1 = {\n",
        "      'fname':'manoj',\n",
        "      'lname':'p',\n",
        "      'age':25,\n",
        "      'phone':[123456,78900]\n",
        "}"
      ],
      "metadata": {
        "id": "wV8Ltxeciwx1"
      },
      "execution_count": null,
      "outputs": []
    },
    {
      "cell_type": "code",
      "source": [
        "x1"
      ],
      "metadata": {
        "id": "rBW5vRd1jNKf",
        "outputId": "8b52508c-9503-4cc6-9004-e068c926a5b8",
        "colab": {
          "base_uri": "https://localhost:8080/"
        }
      },
      "execution_count": null,
      "outputs": [
        {
          "output_type": "execute_result",
          "data": {
            "text/plain": [
              "{'fname': 'manoj', 'lname': 'p', 'age': 25, 'phone': [123456, 78900]}"
            ]
          },
          "metadata": {},
          "execution_count": 46
        }
      ]
    },
    {
      "cell_type": "code",
      "source": [
        "x1.keys()"
      ],
      "metadata": {
        "id": "mFD0nTYtjPCP",
        "outputId": "a3b7c033-7e0f-4a02-cd7e-153a95804c4b",
        "colab": {
          "base_uri": "https://localhost:8080/"
        }
      },
      "execution_count": null,
      "outputs": [
        {
          "output_type": "execute_result",
          "data": {
            "text/plain": [
              "dict_keys(['fname', 'lname', 'age', 'phone'])"
            ]
          },
          "metadata": {},
          "execution_count": 47
        }
      ]
    },
    {
      "cell_type": "code",
      "source": [
        "x1.values()"
      ],
      "metadata": {
        "id": "svJXsHuGjRYm",
        "outputId": "f2d1d303-ce8f-41a5-fd28-f7ed141c0479",
        "colab": {
          "base_uri": "https://localhost:8080/"
        }
      },
      "execution_count": null,
      "outputs": [
        {
          "output_type": "execute_result",
          "data": {
            "text/plain": [
              "dict_values(['manoj', 'p', 25, [123456, 78900]])"
            ]
          },
          "metadata": {},
          "execution_count": 48
        }
      ]
    },
    {
      "cell_type": "code",
      "source": [
        "x1.items()"
      ],
      "metadata": {
        "id": "0IbzslFOjUhX",
        "outputId": "e580971d-9802-4c6c-f905-2a36d8921c51",
        "colab": {
          "base_uri": "https://localhost:8080/"
        }
      },
      "execution_count": null,
      "outputs": [
        {
          "output_type": "execute_result",
          "data": {
            "text/plain": [
              "dict_items([('fname', 'manoj'), ('lname', 'p'), ('age', 25), ('phone', [123456, 78900])])"
            ]
          },
          "metadata": {},
          "execution_count": 49
        }
      ]
    },
    {
      "cell_type": "code",
      "source": [
        "x1['phone'][1]"
      ],
      "metadata": {
        "id": "pklsnHfPjZuq",
        "outputId": "9af1f542-6f41-4f3c-a2bd-e74a834f5fd7",
        "colab": {
          "base_uri": "https://localhost:8080/"
        }
      },
      "execution_count": null,
      "outputs": [
        {
          "output_type": "execute_result",
          "data": {
            "text/plain": [
              "78900"
            ]
          },
          "metadata": {},
          "execution_count": 50
        }
      ]
    },
    {
      "cell_type": "code",
      "source": [
        "x1['address']='zzzz'"
      ],
      "metadata": {
        "id": "fK_3gd3sjgkK"
      },
      "execution_count": null,
      "outputs": []
    },
    {
      "cell_type": "code",
      "source": [
        "x1"
      ],
      "metadata": {
        "id": "Oe4c1q5sjqLP",
        "outputId": "9df15007-90c8-4c27-cab5-801d9633db77",
        "colab": {
          "base_uri": "https://localhost:8080/"
        }
      },
      "execution_count": null,
      "outputs": [
        {
          "output_type": "execute_result",
          "data": {
            "text/plain": [
              "{'fname': 'manoj',\n",
              " 'lname': 'p',\n",
              " 'age': 25,\n",
              " 'phone': [123456, 78900],\n",
              " 'address': 'zzzz'}"
            ]
          },
          "metadata": {},
          "execution_count": 52
        }
      ]
    },
    {
      "cell_type": "code",
      "source": [
        "x1.pop('address')"
      ],
      "metadata": {
        "id": "lFGfPNsXjqyu",
        "outputId": "17916565-5edb-4fdc-fdbe-86695fcb4c6f",
        "colab": {
          "base_uri": "https://localhost:8080/",
          "height": 36
        }
      },
      "execution_count": null,
      "outputs": [
        {
          "output_type": "execute_result",
          "data": {
            "text/plain": [
              "'zzzz'"
            ],
            "application/vnd.google.colaboratory.intrinsic+json": {
              "type": "string"
            }
          },
          "metadata": {},
          "execution_count": 53
        }
      ]
    },
    {
      "cell_type": "code",
      "source": [
        "x1"
      ],
      "metadata": {
        "id": "mZhwNWFCjxOn",
        "outputId": "193d5a18-af52-4843-a057-fa554b64434b",
        "colab": {
          "base_uri": "https://localhost:8080/"
        }
      },
      "execution_count": null,
      "outputs": [
        {
          "output_type": "execute_result",
          "data": {
            "text/plain": [
              "{'fname': 'manoj', 'lname': 'p', 'age': 25, 'phone': [123456, 78900]}"
            ]
          },
          "metadata": {},
          "execution_count": 54
        }
      ]
    },
    {
      "cell_type": "code",
      "source": [
        "x1.pop('lname')"
      ],
      "metadata": {
        "id": "SH5gXPFAj_DF",
        "outputId": "057917b2-b133-4d81-e8c2-73002647ead9",
        "colab": {
          "base_uri": "https://localhost:8080/",
          "height": 36
        }
      },
      "execution_count": null,
      "outputs": [
        {
          "output_type": "execute_result",
          "data": {
            "text/plain": [
              "'p'"
            ],
            "application/vnd.google.colaboratory.intrinsic+json": {
              "type": "string"
            }
          },
          "metadata": {},
          "execution_count": 55
        }
      ]
    },
    {
      "cell_type": "code",
      "source": [
        "x2 = {\n",
        "    'Student1':{\n",
        "        'fname':'M',\n",
        "        'lname':'P'\n",
        "    },\n",
        "    'student2':{\n",
        "        'fname':'n',\n",
        "        'lname':'l'\n",
        "    }\n",
        "}"
      ],
      "metadata": {
        "id": "6InhG-eMkCY0"
      },
      "execution_count": null,
      "outputs": []
    },
    {
      "cell_type": "code",
      "source": [
        "x2"
      ],
      "metadata": {
        "id": "snI-qCTNknMt",
        "outputId": "e61562d1-5825-4fd7-ead3-67e93e0c83b4",
        "colab": {
          "base_uri": "https://localhost:8080/"
        }
      },
      "execution_count": null,
      "outputs": [
        {
          "output_type": "execute_result",
          "data": {
            "text/plain": [
              "{'Student1': {'fname': 'M', 'lname': 'P'},\n",
              " 'student2': {'fname': 'n', 'lname': 'l'}}"
            ]
          },
          "metadata": {},
          "execution_count": 57
        }
      ]
    },
    {
      "cell_type": "code",
      "source": [
        "x2['Student1']['lname']"
      ],
      "metadata": {
        "id": "aIxiTc6hkvAs",
        "outputId": "2ee16dad-9854-410c-b861-3a8a9a13f688",
        "colab": {
          "base_uri": "https://localhost:8080/",
          "height": 36
        }
      },
      "execution_count": null,
      "outputs": [
        {
          "output_type": "execute_result",
          "data": {
            "text/plain": [
              "'P'"
            ],
            "application/vnd.google.colaboratory.intrinsic+json": {
              "type": "string"
            }
          },
          "metadata": {},
          "execution_count": 58
        }
      ]
    },
    {
      "cell_type": "code",
      "source": [
        "student = {\n",
        "    'student1': {\n",
        "        'fname':['qq','ii'],\n",
        "        'lname':'ww'\n",
        "    },\n",
        "    'student2':{\n",
        "        'phone':[123455,121345]\n",
        "    }\n",
        "}"
      ],
      "metadata": {
        "id": "On029Egbk5ps"
      },
      "execution_count": null,
      "outputs": []
    },
    {
      "cell_type": "code",
      "source": [
        "student"
      ],
      "metadata": {
        "id": "oghFIGrEo3-F",
        "outputId": "3b75964d-8872-4acc-bb37-af1a0cde710f",
        "colab": {
          "base_uri": "https://localhost:8080/"
        }
      },
      "execution_count": null,
      "outputs": [
        {
          "output_type": "execute_result",
          "data": {
            "text/plain": [
              "{'student1': {'fname': ['qq', 'ii'], 'lname': 'ww'},\n",
              " 'student2': {'phone': [123455, 121345]}}"
            ]
          },
          "metadata": {},
          "execution_count": 60
        }
      ]
    },
    {
      "cell_type": "code",
      "source": [
        "student['student1']['fname'][1]"
      ],
      "metadata": {
        "id": "zZBEIUnlo5AX",
        "outputId": "bb2166a3-4e22-4208-c5bc-f1268153b77d",
        "colab": {
          "base_uri": "https://localhost:8080/",
          "height": 36
        }
      },
      "execution_count": null,
      "outputs": [
        {
          "output_type": "execute_result",
          "data": {
            "text/plain": [
              "'ii'"
            ],
            "application/vnd.google.colaboratory.intrinsic+json": {
              "type": "string"
            }
          },
          "metadata": {},
          "execution_count": 61
        }
      ]
    },
    {
      "cell_type": "code",
      "source": [
        "student['student2']['phone'][1]"
      ],
      "metadata": {
        "id": "UUQXPYHSpC6F",
        "outputId": "2203999d-3d40-4ace-97f2-5eacbd51c4da",
        "colab": {
          "base_uri": "https://localhost:8080/"
        }
      },
      "execution_count": null,
      "outputs": [
        {
          "output_type": "execute_result",
          "data": {
            "text/plain": [
              "121345"
            ]
          },
          "metadata": {},
          "execution_count": 62
        }
      ]
    },
    {
      "cell_type": "code",
      "source": [
        "student['student2']['address']='zzz'"
      ],
      "metadata": {
        "id": "p_AkZYB-pLL2"
      },
      "execution_count": null,
      "outputs": []
    },
    {
      "cell_type": "code",
      "source": [
        "student"
      ],
      "metadata": {
        "id": "qM1GKaMvpvYc",
        "outputId": "a8e49df6-485f-4eee-a1b3-9f22308355fc",
        "colab": {
          "base_uri": "https://localhost:8080/"
        }
      },
      "execution_count": null,
      "outputs": [
        {
          "output_type": "execute_result",
          "data": {
            "text/plain": [
              "{'student1': {'fname': ['qq', 'ii'], 'lname': 'ww'},\n",
              " 'student2': {'phone': [123455, 121345], 'address': 'zzz'}}"
            ]
          },
          "metadata": {},
          "execution_count": 64
        }
      ]
    },
    {
      "cell_type": "code",
      "source": [
        "student['student2']['phone'][1]=1231234\n"
      ],
      "metadata": {
        "id": "dXeX_-1Hpw8W"
      },
      "execution_count": null,
      "outputs": []
    },
    {
      "cell_type": "code",
      "source": [
        "student"
      ],
      "metadata": {
        "id": "Th-2rWL4q_-w",
        "outputId": "c17644d7-6074-4930-9c3c-178f69a388ce",
        "colab": {
          "base_uri": "https://localhost:8080/"
        }
      },
      "execution_count": null,
      "outputs": [
        {
          "output_type": "execute_result",
          "data": {
            "text/plain": [
              "{'student1': {'fname': ['qq', 'ii'], 'lname': 'ww'},\n",
              " 'student2': {'phone': [123455, 1231234], 'address': 'zzz'}}"
            ]
          },
          "metadata": {},
          "execution_count": 66
        }
      ]
    },
    {
      "cell_type": "code",
      "source": [
        "student['student2']['phone']=[123455, 121345,12334,1224654\n",
        "                              ]"
      ],
      "metadata": {
        "id": "XgXenyt6rXWL"
      },
      "execution_count": null,
      "outputs": []
    },
    {
      "cell_type": "code",
      "source": [
        "student"
      ],
      "metadata": {
        "id": "qgLtj6Czrips",
        "outputId": "30413987-d559-4593-ecee-e247be7a4feb",
        "colab": {
          "base_uri": "https://localhost:8080/"
        }
      },
      "execution_count": null,
      "outputs": [
        {
          "output_type": "execute_result",
          "data": {
            "text/plain": [
              "{'student1': {'fname': ['qq', 'ii'], 'lname': 'ww'},\n",
              " 'student2': {'phone': [123455, 121345, 12334, 1224654], 'address': 'zzz'}}"
            ]
          },
          "metadata": {},
          "execution_count": 68
        }
      ]
    },
    {
      "cell_type": "code",
      "source": [
        "lsit1 = [1,2,3,4,5,'abd']\n"
      ],
      "metadata": {
        "id": "GGZV_AmArj65"
      },
      "execution_count": null,
      "outputs": []
    },
    {
      "cell_type": "code",
      "source": [
        "lsit1.append(10)"
      ],
      "metadata": {
        "id": "C8ub1VN9tJRC"
      },
      "execution_count": null,
      "outputs": []
    },
    {
      "cell_type": "code",
      "source": [
        "lsit1.append('cvd')"
      ],
      "metadata": {
        "id": "tekFf8WhtN-d"
      },
      "execution_count": null,
      "outputs": []
    },
    {
      "cell_type": "code",
      "source": [
        "lsit1"
      ],
      "metadata": {
        "id": "KZ2TJj-qtRpB",
        "outputId": "670a26d9-34cb-4514-f6bf-af674cc92b63",
        "colab": {
          "base_uri": "https://localhost:8080/"
        }
      },
      "execution_count": null,
      "outputs": [
        {
          "output_type": "execute_result",
          "data": {
            "text/plain": [
              "[1, 2, 3, 4, 5, 'abd', 10, 'cvd']"
            ]
          },
          "metadata": {},
          "execution_count": 72
        }
      ]
    },
    {
      "cell_type": "code",
      "source": [
        "lsit1[2]"
      ],
      "metadata": {
        "id": "oFl0buvetSr2",
        "outputId": "a620c3e4-b0fc-4229-897a-c0d8e291f48b",
        "colab": {
          "base_uri": "https://localhost:8080/"
        }
      },
      "execution_count": null,
      "outputs": [
        {
          "output_type": "execute_result",
          "data": {
            "text/plain": [
              "3"
            ]
          },
          "metadata": {},
          "execution_count": 73
        }
      ]
    },
    {
      "cell_type": "code",
      "source": [
        "lsit1.insert(2,'kli')"
      ],
      "metadata": {
        "id": "6xVXZa5etY96"
      },
      "execution_count": null,
      "outputs": []
    },
    {
      "cell_type": "code",
      "source": [
        "lsit1[2]\n",
        "lsit1"
      ],
      "metadata": {
        "id": "1mus0emFteaB",
        "outputId": "679866b3-3c46-4cd0-8de6-974c82235932",
        "colab": {
          "base_uri": "https://localhost:8080/"
        }
      },
      "execution_count": null,
      "outputs": [
        {
          "output_type": "execute_result",
          "data": {
            "text/plain": [
              "[1, 2, 'kli', 3, 4, 5, 'abd', 10, 'cvd']"
            ]
          },
          "metadata": {},
          "execution_count": 75
        }
      ]
    },
    {
      "cell_type": "code",
      "source": [
        "lsit1.remove('kli')"
      ],
      "metadata": {
        "id": "zOVCfy3otgw1"
      },
      "execution_count": null,
      "outputs": []
    },
    {
      "cell_type": "code",
      "source": [
        "lsit1"
      ],
      "metadata": {
        "id": "OKgTXXOttm97",
        "outputId": "adf925ad-9771-41a4-ada4-a5bf509546ec",
        "colab": {
          "base_uri": "https://localhost:8080/"
        }
      },
      "execution_count": null,
      "outputs": [
        {
          "output_type": "execute_result",
          "data": {
            "text/plain": [
              "[1, 2, 3, 4, 5, 'abd', 10, 'cvd']"
            ]
          },
          "metadata": {},
          "execution_count": 77
        }
      ]
    },
    {
      "cell_type": "code",
      "source": [
        "z = lsit1.pop()"
      ],
      "metadata": {
        "id": "A2tKg5ivtrzs"
      },
      "execution_count": null,
      "outputs": []
    },
    {
      "cell_type": "code",
      "source": [
        "z"
      ],
      "metadata": {
        "id": "4Qw4snDjt1n9",
        "outputId": "985a8f6e-6932-4907-d132-934e94127c2d",
        "colab": {
          "base_uri": "https://localhost:8080/",
          "height": 36
        }
      },
      "execution_count": null,
      "outputs": [
        {
          "output_type": "execute_result",
          "data": {
            "text/plain": [
              "'cvd'"
            ],
            "application/vnd.google.colaboratory.intrinsic+json": {
              "type": "string"
            }
          },
          "metadata": {},
          "execution_count": 79
        }
      ]
    },
    {
      "cell_type": "markdown",
      "source": [
        "RANDOM PASSWORD CODE"
      ],
      "metadata": {
        "id": "tq9Fk_9yzh56"
      }
    },
    {
      "cell_type": "code",
      "source": [
        "import random"
      ],
      "metadata": {
        "id": "Sy0K1S0kt2tx"
      },
      "execution_count": null,
      "outputs": []
    },
    {
      "cell_type": "code",
      "source": [
        "upper = 'ABCDEFGHIJKLMNOPQRSTUVWXYZ'\n",
        "lower =  upper.lower()\n",
        "special = '!@#$%^&*'\n",
        "number = '1234567890'\n",
        "combine = upper+lower+special+number"
      ],
      "metadata": {
        "id": "LKMcVZIlwjmO"
      },
      "execution_count": null,
      "outputs": []
    },
    {
      "cell_type": "code",
      "source": [
        "upp = random.choice(upper)\n",
        "low = random.choice(lower)\n",
        "spec = random.choice(special)\n",
        "num = random.choice(number)\n",
        "password = upp+low+spec+num\n",
        "for i in range(4):\n",
        "  password = password + random.choice(combine)\n",
        "\n"
      ],
      "metadata": {
        "id": "ML8k2rW3xFs4"
      },
      "execution_count": null,
      "outputs": []
    },
    {
      "cell_type": "code",
      "source": [
        "password"
      ],
      "metadata": {
        "colab": {
          "base_uri": "https://localhost:8080/",
          "height": 36
        },
        "id": "wIATc-RTx_FX",
        "outputId": "660f56ab-059f-4cff-db58-defbac9d6730"
      },
      "execution_count": null,
      "outputs": [
        {
          "output_type": "execute_result",
          "data": {
            "text/plain": [
              "'Xy^3bvvA'"
            ],
            "application/vnd.google.colaboratory.intrinsic+json": {
              "type": "string"
            }
          },
          "metadata": {},
          "execution_count": 83
        }
      ]
    },
    {
      "cell_type": "markdown",
      "source": [
        "LIST COMPRESSION"
      ],
      "metadata": {
        "id": "Tj7uVEedzaBV"
      }
    },
    {
      "cell_type": "code",
      "source": [
        "\n",
        "z = [i*i for i in range(4) ]\n",
        "z"
      ],
      "metadata": {
        "colab": {
          "base_uri": "https://localhost:8080/"
        },
        "id": "qiPl8BteyZ3I",
        "outputId": "97aae091-63e4-404b-add1-d8bf6a7c4fae"
      },
      "execution_count": null,
      "outputs": [
        {
          "output_type": "execute_result",
          "data": {
            "text/plain": [
              "[0, 1, 4, 9]"
            ]
          },
          "metadata": {},
          "execution_count": 84
        }
      ]
    },
    {
      "cell_type": "code",
      "source": [
        "z1 = [i for i in range(10) if i%2==0]\n",
        "z1"
      ],
      "metadata": {
        "colab": {
          "base_uri": "https://localhost:8080/"
        },
        "id": "37pkY9Uayg5V",
        "outputId": "86c951a6-b7db-456b-9476-f429685a381f"
      },
      "execution_count": null,
      "outputs": [
        {
          "output_type": "execute_result",
          "data": {
            "text/plain": [
              "[0, 2, 4, 6, 8]"
            ]
          },
          "metadata": {},
          "execution_count": 85
        }
      ]
    },
    {
      "cell_type": "markdown",
      "source": [
        "DICTIONARY COMPRESSION"
      ],
      "metadata": {
        "id": "bG_O5Iq_zeeT"
      }
    },
    {
      "cell_type": "code",
      "source": [
        "z2 = {i:i*i for i in range(5)}\n",
        "z2"
      ],
      "metadata": {
        "colab": {
          "base_uri": "https://localhost:8080/"
        },
        "id": "iqo2CY_Uy-Tn",
        "outputId": "47e538be-aae5-4fa6-c7e9-f4d33c809988"
      },
      "execution_count": null,
      "outputs": [
        {
          "output_type": "execute_result",
          "data": {
            "text/plain": [
              "{0: 0, 1: 1, 2: 4, 3: 9, 4: 16}"
            ]
          },
          "metadata": {},
          "execution_count": 86
        }
      ]
    },
    {
      "cell_type": "markdown",
      "source": [
        "FUNCTIONS"
      ],
      "metadata": {
        "id": "n5fWUoF3zW7o"
      }
    },
    {
      "cell_type": "code",
      "source": [
        "def even_odd(x):\n",
        "  if x%2==0:\n",
        "    print(x,'even')\n",
        "  else:\n",
        "    print(x,'odd')\n",
        "\n",
        "\n",
        "even_odd(1)"
      ],
      "metadata": {
        "colab": {
          "base_uri": "https://localhost:8080/"
        },
        "id": "gXDeFJyfzI9w",
        "outputId": "da71faf1-451c-4458-9859-5e72be7778a1"
      },
      "execution_count": null,
      "outputs": [
        {
          "output_type": "stream",
          "name": "stdout",
          "text": [
            "1 odd\n"
          ]
        }
      ]
    },
    {
      "cell_type": "markdown",
      "source": [
        "VOWEL COUNT"
      ],
      "metadata": {
        "id": "Byq_WnVk1mKe"
      }
    },
    {
      "cell_type": "code",
      "source": [
        "def vowel(x):\n",
        "  count = 0\n",
        "  for i in x:\n",
        "    if i in 'AEIOUaeiou':\n",
        "      count = count + 1\n",
        "  print(count)\n",
        "\n"
      ],
      "metadata": {
        "id": "D-HMa6Hsz6sn"
      },
      "execution_count": null,
      "outputs": []
    },
    {
      "cell_type": "code",
      "source": [
        "vowel('manoj')"
      ],
      "metadata": {
        "colab": {
          "base_uri": "https://localhost:8080/"
        },
        "id": "22vZs2et05Tm",
        "outputId": "ae653d8c-15f0-44ef-c6c0-bcfc8b8b0a20"
      },
      "execution_count": null,
      "outputs": [
        {
          "output_type": "stream",
          "name": "stdout",
          "text": [
            "2\n"
          ]
        }
      ]
    },
    {
      "cell_type": "markdown",
      "source": [
        "REVERSE STRING"
      ],
      "metadata": {
        "id": "rKB8oanm1pqg"
      }
    },
    {
      "cell_type": "code",
      "source": [
        "def reverse_string(x):\n",
        "  empt = ''\n",
        "  for i in x:\n",
        "    empt = i + empt\n",
        "  print(empt)"
      ],
      "metadata": {
        "id": "eR_-xjHa1eGd"
      },
      "execution_count": null,
      "outputs": []
    },
    {
      "cell_type": "code",
      "source": [
        "reverse_string('manoj')"
      ],
      "metadata": {
        "colab": {
          "base_uri": "https://localhost:8080/"
        },
        "id": "HvT5zw_m2CGL",
        "outputId": "c9c1a26a-5246-4593-a302-47ccad586f65"
      },
      "execution_count": null,
      "outputs": [
        {
          "output_type": "stream",
          "name": "stdout",
          "text": [
            "jonam\n"
          ]
        }
      ]
    },
    {
      "cell_type": "code",
      "source": [
        "def reverse_string1(x):\n",
        "  print(x[::-1])\n",
        "\n",
        "reverse_string1('manoj')"
      ],
      "metadata": {
        "colab": {
          "base_uri": "https://localhost:8080/"
        },
        "id": "UCyiM2ZG2F7l",
        "outputId": "5a81c084-c62c-44bd-c460-98c6bc0dc53a"
      },
      "execution_count": null,
      "outputs": [
        {
          "output_type": "stream",
          "name": "stdout",
          "text": [
            "jonam\n"
          ]
        }
      ]
    },
    {
      "cell_type": "markdown",
      "source": [
        "Bubble sort"
      ],
      "metadata": {
        "id": "Tb1eY1hR1QZF"
      }
    },
    {
      "cell_type": "code",
      "source": [
        "xlist = [2,4,5,7,8,1,3]\n",
        "n = len(xlist)\n",
        "for i in range(n):\n",
        "  for j in range(n-i-1):\n",
        "    if xlist[j]>xlist[j+1]:\n",
        "      xlist[j],xlist[j+1] = xlist[j+1],xlist[j]\n",
        "print(xlist)"
      ],
      "metadata": {
        "id": "h5k8e6lc0dAn",
        "outputId": "c0cba7ba-ddb9-4e0f-c4d1-761d47572276",
        "colab": {
          "base_uri": "https://localhost:8080/"
        }
      },
      "execution_count": 1,
      "outputs": [
        {
          "output_type": "stream",
          "name": "stdout",
          "text": [
            "[1, 2, 3, 4, 5, 7, 8]\n"
          ]
        }
      ]
    },
    {
      "cell_type": "markdown",
      "source": [
        "count of words"
      ],
      "metadata": {
        "id": "5IiZmzAv2QWE"
      }
    },
    {
      "cell_type": "code",
      "source": [
        "n = 'aabbcceeddww'\n",
        "output={}\n",
        "for i in n:\n",
        "  if i in output:\n",
        "    output[i]+= 1\n",
        "  else:\n",
        "    output[i] = 1\n",
        "\n",
        "print(output)"
      ],
      "metadata": {
        "id": "BrK9ZTnQ1L7w",
        "outputId": "34706d7c-a6a9-491c-fba5-a871c82cc026",
        "colab": {
          "base_uri": "https://localhost:8080/"
        }
      },
      "execution_count": 3,
      "outputs": [
        {
          "output_type": "stream",
          "name": "stdout",
          "text": [
            "{'a': 2, 'b': 2, 'c': 2, 'e': 2, 'd': 2, 'w': 2}\n"
          ]
        }
      ]
    },
    {
      "cell_type": "markdown",
      "source": [
        "Pallindrome"
      ],
      "metadata": {
        "id": "yrJIgdZc3AVl"
      }
    },
    {
      "cell_type": "code",
      "source": [
        "n = 'sos'\n",
        "z = ''\n",
        "for i in n:\n",
        "  z = i + z\n",
        "\n",
        "if n == z :\n",
        "  print(\"pallindrome\")\n",
        "else:\n",
        "  print(\"not\")\n",
        ""
      ],
      "metadata": {
        "id": "qx_nQ_VM2cem",
        "outputId": "c72e3236-df17-42d9-ce83-c1de0fa88bb7",
        "colab": {
          "base_uri": "https://localhost:8080/"
        }
      },
      "execution_count": 6,
      "outputs": [
        {
          "output_type": "stream",
          "name": "stdout",
          "text": [
            "pallindrome\n"
          ]
        }
      ]
    }
  ],
  "metadata": {
    "colab": {
      "name": "Welcome To Colab",
      "provenance": [],
      "include_colab_link": true
    },
    "kernelspec": {
      "display_name": "Python 3",
      "name": "python3"
    }
  },
  "nbformat": 4,
  "nbformat_minor": 0
}